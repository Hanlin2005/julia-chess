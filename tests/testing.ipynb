{
 "cells": [
  {
   "cell_type": "code",
   "execution_count": null,
   "id": "abd3a6d0",
   "metadata": {},
   "outputs": [
    {
     "data": {
      "text/plain": [
       "Move(f2f4)"
      ]
     },
     "metadata": {},
     "output_type": "display_data"
    }
   ],
   "source": [
    "using Chess\n",
    "include(\"../src/engine.jl\")\n",
    "\n",
    "board = startboard()\n",
    "\n",
    "root = mcts(board, 10000)\n"
   ]
  },
  {
   "cell_type": "code",
   "execution_count": null,
   "id": "1dc8890c",
   "metadata": {},
   "outputs": [],
   "source": [
    "#testing\n",
    "board = startboard()\n",
    "pprint(board, color = false, highlight = SS_EMPTY, unicode = true)\n",
    "\n",
    "board = startboard()\n",
    "legalmoves = moves(board)\n",
    "domove!(board, legalmoves[1])\n",
    "legalmoves = moves(board)"
   ]
  }
 ],
 "metadata": {
  "kernelspec": {
   "display_name": "Julia 1.11.6",
   "language": "julia",
   "name": "julia-1.11"
  },
  "language_info": {
   "file_extension": ".jl",
   "mimetype": "application/julia",
   "name": "julia",
   "version": "1.11.6"
  }
 },
 "nbformat": 4,
 "nbformat_minor": 5
}
